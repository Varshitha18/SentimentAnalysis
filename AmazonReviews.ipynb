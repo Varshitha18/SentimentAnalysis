{
  "nbformat": 4,
  "nbformat_minor": 0,
  "metadata": {
    "colab": {
      "name": "AmazonReviews.ipynb",
      "provenance": [],
      "include_colab_link": true
    },
    "kernelspec": {
      "name": "python3",
      "display_name": "Python 3"
    },
    "accelerator": "TPU"
  },
  "cells": [
    {
      "cell_type": "markdown",
      "metadata": {
        "id": "view-in-github",
        "colab_type": "text"
      },
      "source": [
        "<a href=\"https://colab.research.google.com/github/Varshitha18/SentimentAnalysis/blob/master/AmazonReviews.ipynb\" target=\"_parent\"><img src=\"https://colab.research.google.com/assets/colab-badge.svg\" alt=\"Open In Colab\"/></a>"
      ]
    },
    {
      "cell_type": "code",
      "metadata": {
        "id": "lZ8Rfj6kcR65",
        "colab_type": "code",
        "colab": {
          "base_uri": "https://localhost:8080/",
          "height": 124
        },
        "outputId": "37691e45-e25c-4ade-872b-1af3353f643e"
      },
      "source": [
        "from google.colab import drive\n",
        "drive.mount('/content/drive')"
      ],
      "execution_count": null,
      "outputs": [
        {
          "output_type": "stream",
          "text": [
            "Go to this URL in a browser: https://accounts.google.com/o/oauth2/auth?client_id=947318989803-6bn6qk8qdgf4n4g3pfee6491hc0brc4i.apps.googleusercontent.com&redirect_uri=urn%3aietf%3awg%3aoauth%3a2.0%3aoob&response_type=code&scope=email%20https%3a%2f%2fwww.googleapis.com%2fauth%2fdocs.test%20https%3a%2f%2fwww.googleapis.com%2fauth%2fdrive%20https%3a%2f%2fwww.googleapis.com%2fauth%2fdrive.photos.readonly%20https%3a%2f%2fwww.googleapis.com%2fauth%2fpeopleapi.readonly\n",
            "\n",
            "Enter your authorization code:\n",
            "··········\n",
            "Mounted at /content/drive\n"
          ],
          "name": "stdout"
        }
      ]
    },
    {
      "cell_type": "code",
      "metadata": {
        "id": "vpzKBen5Of03",
        "colab_type": "code",
        "colab": {
          "base_uri": "https://localhost:8080/",
          "height": 1000
        },
        "outputId": "1c470a85-b1d3-4735-a36d-1c0c74c35b0f"
      },
      "source": [
        "!wget https://github.com/facebookresearch/fastText/archive/v0.1.0.zip\n",
        "!unzip v0.1.0.zip\n",
        "%cd fastText-0.1.0\n",
        "!make"
      ],
      "execution_count": null,
      "outputs": [
        {
          "output_type": "stream",
          "text": [
            "--2020-06-15 04:42:13--  https://github.com/facebookresearch/fastText/archive/v0.1.0.zip\n",
            "Resolving github.com (github.com)... 140.82.112.3\n",
            "Connecting to github.com (github.com)|140.82.112.3|:443... connected.\n",
            "HTTP request sent, awaiting response... 302 Found\n",
            "Location: https://codeload.github.com/facebookresearch/fastText/zip/v0.1.0 [following]\n",
            "--2020-06-15 04:42:13--  https://codeload.github.com/facebookresearch/fastText/zip/v0.1.0\n",
            "Resolving codeload.github.com (codeload.github.com)... 140.82.112.10\n",
            "Connecting to codeload.github.com (codeload.github.com)|140.82.112.10|:443... connected.\n",
            "HTTP request sent, awaiting response... 200 OK\n",
            "Length: unspecified [application/zip]\n",
            "Saving to: ‘v0.1.0.zip’\n",
            "\n",
            "\rv0.1.0.zip              [<=>                 ]       0  --.-KB/s               \rv0.1.0.zip              [ <=>                ]  92.06K  --.-KB/s    in 0.07s   \n",
            "\n",
            "2020-06-15 04:42:13 (1.20 MB/s) - ‘v0.1.0.zip’ saved [94267]\n",
            "\n",
            "Archive:  v0.1.0.zip\n",
            "431c9e2a9b5149369cc60fb9f5beba58dcf8ca17\n",
            "   creating: fastText-0.1.0/\n",
            "  inflating: fastText-0.1.0/.gitignore  \n",
            "  inflating: fastText-0.1.0/CONTRIBUTING.md  \n",
            "  inflating: fastText-0.1.0/LICENSE  \n",
            "  inflating: fastText-0.1.0/Makefile  \n",
            "  inflating: fastText-0.1.0/PATENTS  \n",
            "  inflating: fastText-0.1.0/README.md  \n",
            "  inflating: fastText-0.1.0/classification-example.sh  \n",
            "  inflating: fastText-0.1.0/classification-results.sh  \n",
            "  inflating: fastText-0.1.0/eval.py  \n",
            "  inflating: fastText-0.1.0/get-wikimedia.sh  \n",
            "  inflating: fastText-0.1.0/pretrained-vectors.md  \n",
            "  inflating: fastText-0.1.0/quantization-example.sh  \n",
            "  inflating: fastText-0.1.0/quantization-results.sh  \n",
            "   creating: fastText-0.1.0/src/\n",
            "  inflating: fastText-0.1.0/src/args.cc  \n",
            "  inflating: fastText-0.1.0/src/args.h  \n",
            "  inflating: fastText-0.1.0/src/dictionary.cc  \n",
            "  inflating: fastText-0.1.0/src/dictionary.h  \n",
            "  inflating: fastText-0.1.0/src/fasttext.cc  \n",
            "  inflating: fastText-0.1.0/src/fasttext.h  \n",
            "  inflating: fastText-0.1.0/src/main.cc  \n",
            "  inflating: fastText-0.1.0/src/matrix.cc  \n",
            "  inflating: fastText-0.1.0/src/matrix.h  \n",
            "  inflating: fastText-0.1.0/src/model.cc  \n",
            "  inflating: fastText-0.1.0/src/model.h  \n",
            "  inflating: fastText-0.1.0/src/productquantizer.cc  \n",
            "  inflating: fastText-0.1.0/src/productquantizer.h  \n",
            "  inflating: fastText-0.1.0/src/qmatrix.cc  \n",
            "  inflating: fastText-0.1.0/src/qmatrix.h  \n",
            "  inflating: fastText-0.1.0/src/real.h  \n",
            "  inflating: fastText-0.1.0/src/utils.cc  \n",
            "  inflating: fastText-0.1.0/src/utils.h  \n",
            "  inflating: fastText-0.1.0/src/vector.cc  \n",
            "  inflating: fastText-0.1.0/src/vector.h  \n",
            "   creating: fastText-0.1.0/tutorials/\n",
            "  inflating: fastText-0.1.0/tutorials/cbo_vs_skipgram.png  \n",
            "  inflating: fastText-0.1.0/tutorials/supervised-learning.md  \n",
            "  inflating: fastText-0.1.0/tutorials/unsupervised-learning.md  \n",
            "  inflating: fastText-0.1.0/wikifil.pl  \n",
            "  inflating: fastText-0.1.0/word-vector-example.sh  \n",
            "/content/fastText-0.1.0\n",
            "c++ -pthread -std=c++0x -O3 -funroll-loops -c src/args.cc\n",
            "c++ -pthread -std=c++0x -O3 -funroll-loops -c src/dictionary.cc\n",
            "c++ -pthread -std=c++0x -O3 -funroll-loops -c src/productquantizer.cc\n",
            "c++ -pthread -std=c++0x -O3 -funroll-loops -c src/matrix.cc\n",
            "c++ -pthread -std=c++0x -O3 -funroll-loops -c src/qmatrix.cc\n",
            "c++ -pthread -std=c++0x -O3 -funroll-loops -c src/vector.cc\n",
            "c++ -pthread -std=c++0x -O3 -funroll-loops -c src/model.cc\n",
            "c++ -pthread -std=c++0x -O3 -funroll-loops -c src/utils.cc\n",
            "c++ -pthread -std=c++0x -O3 -funroll-loops -c src/fasttext.cc\n",
            "c++ -pthread -std=c++0x -O3 -funroll-loops args.o dictionary.o productquantizer.o matrix.o qmatrix.o vector.o model.o utils.o fasttext.o src/main.cc -o fasttext\n"
          ],
          "name": "stdout"
        }
      ]
    },
    {
      "cell_type": "code",
      "metadata": {
        "id": "kuWBOFuZsZk_",
        "colab_type": "code",
        "colab": {
          "base_uri": "https://localhost:8080/",
          "height": 52
        },
        "outputId": "96b432d2-c279-4492-8a32-b3319d11fcb4"
      },
      "source": [
        "%cd fastText-0.1.0"
      ],
      "execution_count": null,
      "outputs": [
        {
          "output_type": "stream",
          "text": [
            "[Errno 2] No such file or directory: 'fastText-0.1.0'\n",
            "/content/fastText-0.1.0\n"
          ],
          "name": "stdout"
        }
      ]
    },
    {
      "cell_type": "code",
      "metadata": {
        "id": "ev9ctrLEOqxY",
        "colab_type": "code",
        "colab": {}
      },
      "source": [
        "import re\n",
        "import os\n",
        "#import fasttext\n",
        "import itertools"
      ],
      "execution_count": null,
      "outputs": []
    },
    {
      "cell_type": "code",
      "metadata": {
        "id": "lYEUKgENdyep",
        "colab_type": "code",
        "colab": {}
      },
      "source": [
        "#test_file = open(\"test.ft.txt\", \"r\")\n",
        "#test_f = test_file.read()\n",
        "train_file = open(\"/content/fastText-0.1.0/train.ft.txt\", \"r\")\n",
        "train_f = train_file.read()"
      ],
      "execution_count": null,
      "outputs": []
    },
    {
      "cell_type": "code",
      "metadata": {
        "id": "gxgZ-mRd8SFJ",
        "colab_type": "code",
        "colab": {}
      },
      "source": [
        "text = train_f.split(\"\\n\")"
      ],
      "execution_count": null,
      "outputs": []
    },
    {
      "cell_type": "code",
      "metadata": {
        "id": "bXeychWU1-vo",
        "colab_type": "code",
        "colab": {}
      },
      "source": [
        "def load_dict_smileys():\n",
        "    \n",
        "    return {\n",
        "        \":‑)\":\"smiley\",\n",
        "        \":-]\":\"smiley\",\n",
        "        \":-3\":\"smiley\",\n",
        "        \":->\":\"smiley\",\n",
        "        \"8-)\":\"smiley\",\n",
        "        \":-}\":\"smiley\",\n",
        "        \":)\":\"smiley\",\n",
        "        \":]\":\"smiley\",\n",
        "        \":3\":\"smiley\",\n",
        "        \":>\":\"smiley\",\n",
        "        \"8)\":\"smiley\",\n",
        "        \":}\":\"smiley\",\n",
        "        \":o)\":\"smiley\",\n",
        "        \":c)\":\"smiley\",\n",
        "        \":^)\":\"smiley\",\n",
        "        \"=]\":\"smiley\",\n",
        "        \"=)\":\"smiley\",\n",
        "        \":-))\":\"smiley\",\n",
        "        \":‑D\":\"smiley\",\n",
        "        \"8‑D\":\"smiley\",\n",
        "        \"x‑D\":\"smiley\",\n",
        "        \"X‑D\":\"smiley\",\n",
        "        \":D\":\"smiley\",\n",
        "        \"8D\":\"smiley\",\n",
        "        \"xD\":\"smiley\",\n",
        "        \"XD\":\"smiley\",\n",
        "        \":‑(\":\"sad\",\n",
        "        \":‑c\":\"sad\",\n",
        "        \":‑<\":\"sad\",\n",
        "        \":‑[\":\"sad\",\n",
        "        \":(\":\"sad\",\n",
        "        \":c\":\"sad\",\n",
        "        \":<\":\"sad\",\n",
        "        \":[\":\"sad\",\n",
        "        \":-||\":\"sad\",\n",
        "        \">:[\":\"sad\",\n",
        "        \":{\":\"sad\",\n",
        "        \":@\":\"sad\",\n",
        "        \">:(\":\"sad\",\n",
        "        \":'‑(\":\"sad\",\n",
        "        \":'(\":\"sad\",\n",
        "        \":‑P\":\"playful\",\n",
        "        \"X‑P\":\"playful\",\n",
        "        \"x‑p\":\"playful\",\n",
        "        \":‑p\":\"playful\",\n",
        "        \":‑Þ\":\"playful\",\n",
        "        \":‑þ\":\"playful\",\n",
        "        \":‑b\":\"playful\",\n",
        "        \":P\":\"playful\",\n",
        "        \"XP\":\"playful\",\n",
        "        \"xp\":\"playful\",\n",
        "        \":p\":\"playful\",\n",
        "        \":Þ\":\"playful\",\n",
        "        \":þ\":\"playful\",\n",
        "        \":b\":\"playful\",\n",
        "        \"<3\":\"love\"\n",
        "        }"
      ],
      "execution_count": null,
      "outputs": []
    },
    {
      "cell_type": "code",
      "metadata": {
        "id": "FSud98Gt2C78",
        "colab_type": "code",
        "colab": {}
      },
      "source": [
        "def load_dict_contractions():\n",
        "    \n",
        "    return {\n",
        "        \"ain't\":\"is not\",\n",
        "        \"amn't\":\"am not\",\n",
        "        \"aren't\":\"are not\",\n",
        "        \"can't\":\"cannot\",\n",
        "        \"'cause\":\"because\",\n",
        "        \"couldn't\":\"could not\",\n",
        "        \"couldn't've\":\"could not have\",\n",
        "        \"could've\":\"could have\",\n",
        "        \"daren't\":\"dare not\",\n",
        "        \"daresn't\":\"dare not\",\n",
        "        \"dasn't\":\"dare not\",\n",
        "        \"didn't\":\"did not\",\n",
        "        \"doesn't\":\"does not\",\n",
        "        \"don't\":\"do not\",\n",
        "        \"e'er\":\"ever\",\n",
        "        \"em\":\"them\",\n",
        "        \"everyone's\":\"everyone is\",\n",
        "        \"finna\":\"fixing to\",\n",
        "        \"gimme\":\"give me\",\n",
        "        \"gonna\":\"going to\",\n",
        "        \"gon't\":\"go not\",\n",
        "        \"gotta\":\"got to\",\n",
        "        \"hadn't\":\"had not\",\n",
        "        \"hasn't\":\"has not\",\n",
        "        \"haven't\":\"have not\",\n",
        "        \"he'd\":\"he would\",\n",
        "        \"he'll\":\"he will\",\n",
        "        \"he's\":\"he is\",\n",
        "        \"he've\":\"he have\",\n",
        "        \"how'd\":\"how would\",\n",
        "        \"how'll\":\"how will\",\n",
        "        \"how're\":\"how are\",\n",
        "        \"how's\":\"how is\",\n",
        "        \"I'd\":\"I would\",\n",
        "        \"I'll\":\"I will\",\n",
        "        \"I'm\":\"I am\",\n",
        "        \"I'm'a\":\"I am about to\",\n",
        "        \"I'm'o\":\"I am going to\",\n",
        "        \"isn't\":\"is not\",\n",
        "        \"it'd\":\"it would\",\n",
        "        \"it'll\":\"it will\",\n",
        "        \"it's\":\"it is\",\n",
        "        \"I've\":\"I have\",\n",
        "        \"kinda\":\"kind of\",\n",
        "        \"let's\":\"let us\",\n",
        "        \"mayn't\":\"may not\",\n",
        "        \"may've\":\"may have\",\n",
        "        \"mightn't\":\"might not\",\n",
        "        \"might've\":\"might have\",\n",
        "        \"mustn't\":\"must not\",\n",
        "        \"mustn't've\":\"must not have\",\n",
        "        \"must've\":\"must have\",\n",
        "        \"needn't\":\"need not\",\n",
        "        \"ne'er\":\"never\",\n",
        "        \"o'\":\"of\",\n",
        "        \"o'er\":\"over\",\n",
        "        \"ol'\":\"old\",\n",
        "        \"oughtn't\":\"ought not\",\n",
        "        \"shalln't\":\"shall not\",\n",
        "        \"shan't\":\"shall not\",\n",
        "        \"she'd\":\"she would\",\n",
        "        \"she'll\":\"she will\",\n",
        "        \"she's\":\"she is\",\n",
        "        \"shouldn't\":\"should not\",\n",
        "        \"shouldn't've\":\"should not have\",\n",
        "        \"should've\":\"should have\",\n",
        "        \"somebody's\":\"somebody is\",\n",
        "        \"someone's\":\"someone is\",\n",
        "        \"something's\":\"something is\",\n",
        "        \"that'd\":\"that would\",\n",
        "        \"that'll\":\"that will\",\n",
        "        \"that're\":\"that are\",\n",
        "        \"that's\":\"that is\",\n",
        "        \"there'd\":\"there would\",\n",
        "        \"there'll\":\"there will\",\n",
        "        \"there're\":\"there are\",\n",
        "        \"there's\":\"there is\",\n",
        "        \"these're\":\"these are\",\n",
        "        \"they'd\":\"they would\",\n",
        "        \"they'll\":\"they will\",\n",
        "        \"they're\":\"they are\",\n",
        "        \"they've\":\"they have\",\n",
        "        \"this's\":\"this is\",\n",
        "        \"those're\":\"those are\",\n",
        "        \"'tis\":\"it is\",\n",
        "        \"'twas\":\"it was\",\n",
        "        \"wanna\":\"want to\",\n",
        "        \"wasn't\":\"was not\",\n",
        "        \"we'd\":\"we would\",\n",
        "        \"we'd've\":\"we would have\",\n",
        "        \"we'll\":\"we will\",\n",
        "        \"we're\":\"we are\",\n",
        "        \"weren't\":\"were not\",\n",
        "        \"we've\":\"we have\",\n",
        "        \"what'd\":\"what did\",\n",
        "        \"what'll\":\"what will\",\n",
        "        \"what're\":\"what are\",\n",
        "        \"what's\":\"what is\",\n",
        "        \"what've\":\"what have\",\n",
        "        \"when's\":\"when is\",\n",
        "        \"where'd\":\"where did\",\n",
        "        \"where're\":\"where are\",\n",
        "        \"where's\":\"where is\",\n",
        "        \"where've\":\"where have\",\n",
        "        \"which's\":\"which is\",\n",
        "        \"who'd\":\"who would\",\n",
        "        \"who'd've\":\"who would have\",\n",
        "        \"who'll\":\"who will\",\n",
        "        \"who're\":\"who are\",\n",
        "        \"who's\":\"who is\",\n",
        "        \"who've\":\"who have\",\n",
        "        \"why'd\":\"why did\",\n",
        "        \"why're\":\"why are\",\n",
        "        \"why's\":\"why is\",\n",
        "        \"won't\":\"will not\",\n",
        "        \"wouldn't\":\"would not\",\n",
        "        \"would've\":\"would have\",\n",
        "        \"y'all\":\"you all\",\n",
        "        \"you'd\":\"you would\",\n",
        "        \"you'll\":\"you will\",\n",
        "        \"you're\":\"you are\",\n",
        "        \"you've\":\"you have\",\n",
        "        \"Whatcha\":\"What are you\",\n",
        "        \"luv\":\"love\",\n",
        "        \"sux\":\"sucks\"\n",
        "        }"
      ],
      "execution_count": null,
      "outputs": []
    },
    {
      "cell_type": "code",
      "metadata": {
        "id": "2MaiKIhp8ZfN",
        "colab_type": "code",
        "colab": {}
      },
      "source": [
        "arr = []\n",
        "for row in text:\n",
        "  label = row[0:10]\n",
        "\n",
        "  if label == \"__label__1\":\n",
        "    label = \"__label__positive\"\n",
        "  elif label == \"__label__2\":\n",
        "    label = \"__label__negative\"\n",
        "  else:\n",
        "    label = \"__label__neutral\"\n",
        "\n",
        "  review = row[10:]\n",
        "  #Deal with emoticons\n",
        "  SMILEY = load_dict_smileys()\n",
        "  words = review.split()\n",
        "  reformed = [SMILEY[word] if word in SMILEY else word for word in words]\n",
        "  review = \" \".join(reformed)\n",
        "  #removal of punctuation\n",
        "  review = ' '.join(re.sub(\"[\\.\\,\\!\\?\\:\\;\\-\\=]\", \" \", review).split())\n",
        "  #lower case\n",
        "  review = review.lower()\n",
        "  #contractions\n",
        "  CONTRACTIONS = load_dict_contractions()\n",
        "  review = review.replace(\"’\",\"'\")\n",
        "  words = review.split()\n",
        "  reformed = [CONTRACTIONS[word] if word in CONTRACTIONS else word for word in words]\n",
        "  review = \" \".join(reformed)\n",
        "  #standardizing words\n",
        "  review = ''.join(''.join(s)[:2] for _, s in itertools.groupby(review))\n",
        "  review = review.strip()\n",
        "  arr.append(label + \" \" + review)"
      ],
      "execution_count": null,
      "outputs": []
    },
    {
      "cell_type": "code",
      "metadata": {
        "id": "swe_aYhy8dzj",
        "colab_type": "code",
        "colab": {}
      },
      "source": [
        "with open('/content/drive/My Drive/Copy of train.ft.txt','w') as f1:\n",
        "  for i in arr:\n",
        "    f1.write(i + \"\\n\")"
      ],
      "execution_count": null,
      "outputs": []
    },
    {
      "cell_type": "code",
      "metadata": {
        "id": "nZtByPk5w0QF",
        "colab_type": "code",
        "colab": {
          "base_uri": "https://localhost:8080/",
          "height": 34
        },
        "outputId": "2e991ca0-6175-4a1f-cb52-2aa328cce06f"
      },
      "source": [
        "!make"
      ],
      "execution_count": null,
      "outputs": [
        {
          "output_type": "stream",
          "text": [
            "make: Nothing to be done for 'opt'.\n"
          ],
          "name": "stdout"
        }
      ]
    },
    {
      "cell_type": "code",
      "metadata": {
        "id": "3USAGZr4e3Vp",
        "colab_type": "code",
        "colab": {
          "base_uri": "https://localhost:8080/",
          "height": 86
        },
        "outputId": "d98c0f6b-a9db-48e7-9263-245a7a9e8a35"
      },
      "source": [
        "!./fasttext supervised -input /content/fastText-0.1.0/train.ft.txt -output model_amzn "
      ],
      "execution_count": null,
      "outputs": [
        {
          "output_type": "stream",
          "text": [
            "Read 103M words\n",
            "Number of words:  2462011\n",
            "Number of labels: 2\n",
            "Progress: 100.0%  words/sec/thread: 2708565  lr: 0.000000  loss: 0.250226  eta: 0h0m \n"
          ],
          "name": "stdout"
        }
      ]
    },
    {
      "cell_type": "code",
      "metadata": {
        "id": "56dk7sF-xtlo",
        "colab_type": "code",
        "colab": {
          "base_uri": "https://localhost:8080/",
          "height": 86
        },
        "outputId": "251a8632-4919-4261-b2c6-a1a6551e4f05"
      },
      "source": [
        "!./fasttext test model_amzn.bin /content/fastText-0.1.0/test.ft.txt\n"
      ],
      "execution_count": null,
      "outputs": [
        {
          "output_type": "stream",
          "text": [
            "N\t400000\n",
            "P@1\t0.911\n",
            "R@1\t0.911\n",
            "Number of examples: 400000\n"
          ],
          "name": "stdout"
        }
      ]
    },
    {
      "cell_type": "code",
      "metadata": {
        "id": "tpk_9e-RRQqo",
        "colab_type": "code",
        "colab": {
          "base_uri": "https://localhost:8080/",
          "height": 263
        },
        "outputId": "0cdd782f-cd20-4692-b6bd-85d35714deb0"
      },
      "source": [
        "pip install fasttext"
      ],
      "execution_count": null,
      "outputs": [
        {
          "output_type": "stream",
          "text": [
            "Collecting fasttext\n",
            "\u001b[?25l  Downloading https://files.pythonhosted.org/packages/f8/85/e2b368ab6d3528827b147fdb814f8189acc981a4bc2f99ab894650e05c40/fasttext-0.9.2.tar.gz (68kB)\n",
            "\r\u001b[K     |████▊                           | 10kB 17.6MB/s eta 0:00:01\r\u001b[K     |█████████▌                      | 20kB 2.2MB/s eta 0:00:01\r\u001b[K     |██████████████▎                 | 30kB 2.9MB/s eta 0:00:01\r\u001b[K     |███████████████████             | 40kB 3.1MB/s eta 0:00:01\r\u001b[K     |███████████████████████▉        | 51kB 2.5MB/s eta 0:00:01\r\u001b[K     |████████████████████████████▋   | 61kB 2.8MB/s eta 0:00:01\r\u001b[K     |████████████████████████████████| 71kB 2.4MB/s \n",
            "\u001b[?25hRequirement already satisfied: pybind11>=2.2 in /usr/local/lib/python3.6/dist-packages (from fasttext) (2.5.0)\n",
            "Requirement already satisfied: setuptools>=0.7.0 in /usr/local/lib/python3.6/dist-packages (from fasttext) (47.1.1)\n",
            "Requirement already satisfied: numpy in /usr/local/lib/python3.6/dist-packages (from fasttext) (1.18.5)\n",
            "Building wheels for collected packages: fasttext\n",
            "  Building wheel for fasttext (setup.py) ... \u001b[?25l\u001b[?25hdone\n",
            "  Created wheel for fasttext: filename=fasttext-0.9.2-cp36-cp36m-linux_x86_64.whl size=3014397 sha256=e578042fb307e03e930ce5d0d286a9f98c7eea99ea49b97eb6c74d2dbb9a8ee0\n",
            "  Stored in directory: /root/.cache/pip/wheels/98/ba/7f/b154944a1cf5a8cee91c154b75231136cc3a3321ab0e30f592\n",
            "Successfully built fasttext\n",
            "Installing collected packages: fasttext\n",
            "Successfully installed fasttext-0.9.2\n"
          ],
          "name": "stdout"
        }
      ]
    },
    {
      "cell_type": "code",
      "metadata": {
        "id": "qNw6sPJTQWhr",
        "colab_type": "code",
        "colab": {}
      },
      "source": [
        "import fasttext\n",
        "from fasttext import load_model\n",
        "\n",
        "classifier = load_model(\"model_amzn.bin\")  \n",
        "texts = [':-)']\n",
        "labels = classifier.predict(texts)\n",
        "print(labels)  "
      ],
      "execution_count": null,
      "outputs": []
    },
    {
      "cell_type": "code",
      "metadata": {
        "id": "AhOwmBGq0fXt",
        "colab_type": "code",
        "colab": {}
      },
      "source": [
        ""
      ],
      "execution_count": null,
      "outputs": []
    }
  ]
}